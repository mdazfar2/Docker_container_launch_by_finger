{
 "cells": [
  {
   "cell_type": "code",
   "execution_count": 1,
   "id": "8f3a3545",
   "metadata": {},
   "outputs": [],
   "source": [
    "import cv2\n",
    "cap  = cv2.VideoCapture(0)"
   ]
  },
  {
   "cell_type": "code",
   "execution_count": null,
   "id": "d299988b",
   "metadata": {},
   "outputs": [],
   "source": [
    "while True:\n",
    "  status , photo = cap.read()\n",
    "  cv2.imshow(\"my photo\" , photo)\n",
    "  \n",
    "  if cv2.waitKey(100) == 13:\n",
    "    break\n",
    "   \n",
    "cv2.destroyAllWindows()"
   ]
  },
  {
   "cell_type": "code",
   "execution_count": null,
   "id": "f2165bf3",
   "metadata": {},
   "outputs": [],
   "source": [
    "import cv2\n",
    "from cvzone.HandTrackingModule import HandDetector\n",
    "detector = HandDetector(maxHands=1 , detectionCon=0.8 )\n",
    "cap = cv2.VideoCapture(0)\n",
    "while True:\n",
    "    ret, photo = cap.read()\n",
    "    hand = detector.findHands(photo, draw=False)\n",
    "    cv2.imshow(\"my photo\" , photo)\n",
    "    if hand != []:\n",
    "        detectHand = hand[0]\n",
    "        print(detector.fingersUp(detectHand))\n",
    "    if cv2.waitKey(10) == 13:\n",
    "        break\n",
    "cv2.destroyAllWindows()\n",
    "cap.release()"
   ]
  },
  {
   "cell_type": "code",
   "execution_count": null,
   "id": "1fe1735c",
   "metadata": {},
   "outputs": [],
   "source": []
  }
 ],
 "metadata": {
  "kernelspec": {
   "display_name": "Python 3 (ipykernel)",
   "language": "python",
   "name": "python3"
  },
  "language_info": {
   "codemirror_mode": {
    "name": "ipython",
    "version": 3
   },
   "file_extension": ".py",
   "mimetype": "text/x-python",
   "name": "python",
   "nbconvert_exporter": "python",
   "pygments_lexer": "ipython3",
   "version": "3.10.9"
  }
 },
 "nbformat": 4,
 "nbformat_minor": 5
}
